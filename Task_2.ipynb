{
  "cells": [
    {
      "cell_type": "markdown",
      "metadata": {
        "id": "M74BrhQJI3la"
      },
      "source": [
        "**Задача 2**\n",
        "\n",
        "Develop RNN, GRU and LSTM to predict Usage_kWh. Dataset - http://archive.ics.uci.edu/dataset/851/steel+industry+energy+consumption.\n",
        "\n",
        "Hyperparameters are at your discretion\n",
        "\n",
        "Compare the quality of the MSE, RMSE and R^2 models"
      ]
    },
    {
      "cell_type": "markdown",
      "source": [
        "Импортируем датасет"
      ],
      "metadata": {
        "id": "egarZ98_P1Oi"
      }
    },
    {
      "cell_type": "code",
      "execution_count": null,
      "metadata": {
        "colab": {
          "base_uri": "https://localhost:8080/"
        },
        "id": "xt1eHkCaIzVM",
        "outputId": "135f7bdd-0fce-4cdc-ff48-7b640c4f6243"
      },
      "outputs": [
        {
          "output_type": "stream",
          "name": "stdout",
          "text": [
            "Requirement already satisfied: ucimlrepo in /usr/local/lib/python3.10/dist-packages (0.0.7)\n",
            "Requirement already satisfied: pandas>=1.0.0 in /usr/local/lib/python3.10/dist-packages (from ucimlrepo) (2.0.3)\n",
            "Requirement already satisfied: certifi>=2020.12.5 in /usr/local/lib/python3.10/dist-packages (from ucimlrepo) (2024.6.2)\n",
            "Requirement already satisfied: python-dateutil>=2.8.2 in /usr/local/lib/python3.10/dist-packages (from pandas>=1.0.0->ucimlrepo) (2.8.2)\n",
            "Requirement already satisfied: pytz>=2020.1 in /usr/local/lib/python3.10/dist-packages (from pandas>=1.0.0->ucimlrepo) (2023.4)\n",
            "Requirement already satisfied: tzdata>=2022.1 in /usr/local/lib/python3.10/dist-packages (from pandas>=1.0.0->ucimlrepo) (2024.1)\n",
            "Requirement already satisfied: numpy>=1.21.0 in /usr/local/lib/python3.10/dist-packages (from pandas>=1.0.0->ucimlrepo) (1.25.2)\n",
            "Requirement already satisfied: six>=1.5 in /usr/local/lib/python3.10/dist-packages (from python-dateutil>=2.8.2->pandas>=1.0.0->ucimlrepo) (1.16.0)\n",
            "{'uci_id': 851, 'name': 'Steel Industry Energy Consumption', 'repository_url': 'https://archive.ics.uci.edu/dataset/851/steel+industry+energy+consumption', 'data_url': 'https://archive.ics.uci.edu/static/public/851/data.csv', 'abstract': 'The data is collected from a smart small-scale steel industry in South Korea.', 'area': 'Physics and Chemistry', 'tasks': ['Regression'], 'characteristics': ['Multivariate'], 'num_instances': 35040, 'num_features': 9, 'feature_types': ['Real', 'Categorical'], 'demographics': [], 'target_col': ['Load_Type'], 'index_col': None, 'has_missing_values': 'no', 'missing_values_symbol': None, 'year_of_dataset_creation': 2021, 'last_updated': 'Mon Aug 14 2023', 'dataset_doi': '10.24432/C52G8C', 'creators': ['Sathishkumar V E', 'Changsun Shin', 'Yongyun Cho'], 'intro_paper': {'title': 'Efficient energy consumption prediction model for a data analytic-enabled industry building in a smart city', 'authors': 'Sathishkumar V E, Changsun Shin, Yongyun Cho', 'published_in': 'Building Research & Information, Vol. 49. no. 1, pp. 127-143', 'year': 2021, 'url': 'https://www.semanticscholar.org/paper/a4e10d9c93ed4b2fd89ad34e15a37eb1dc251168', 'doi': None}, 'additional_info': {'summary': 'The information gathered is from the DAEWOO Steel Co. Ltd in Gwangyang, South Korea. It produces several types of coils, steel plates, and iron plates. The information on electricity consumption is held in a cloud-based system. The information on energy consumption of the industry is stored on the website of the Korea Electric Power Corporation (pccs.kepco.go.kr), and the perspectives on daily, monthly, and annual data are calculated and shown.', 'purpose': None, 'funded_by': None, 'instances_represent': None, 'recommended_data_splits': None, 'sensitive_data': None, 'preprocessing_description': None, 'variable_info': 'Data Variables Type Measurement\\nIndustry Energy Consumption Continuous kWh\\nLagging Current reactive power Continuous kVarh\\nLeading Current reactive power Continuous kVarh\\ntCO2(CO2) Continuous ppm\\nLagging Current power factor Continuous %\\nLeading Current Power factor Continuous %\\nNumber of Seconds from midnight Continuous S\\nWeek status Categorical (Weekend (0) or a Weekday(1))\\nDay of week Categorical Sunday, Monday â€¦. Saturday\\nLoad Type Categorical Light Load, Medium Load, Maximum Load', 'citation': None}}\n",
            "                                    name     role         type demographic  \\\n",
            "0                                   date    Other         Date        None   \n",
            "1                              Usage_kWh  Feature   Continuous        None   \n",
            "2   Lagging_Current_Reactive.Power_kVarh  Feature   Continuous        None   \n",
            "3   Leading_Current_Reactive_Power_kVarh  Feature   Continuous        None   \n",
            "4                              CO2(tCO2)  Feature   Continuous        None   \n",
            "5           Lagging_Current_Power_Factor  Feature   Continuous        None   \n",
            "6           Leading_Current_Power_Factor  Feature   Continuous        None   \n",
            "7                                    NSM  Feature      Integer        None   \n",
            "8                             WeekStatus  Feature  Categorical        None   \n",
            "9                            Day_of_week  Feature  Categorical        None   \n",
            "10                             Load_Type   Target  Categorical        None   \n",
            "\n",
            "                              description  units missing_values  \n",
            "0                                    None   None             no  \n",
            "1             Industry Energy Consumption    kWh             no  \n",
            "2                                    None  kVarh             no  \n",
            "3                                    None  kVarh             no  \n",
            "4                                    None    ppm             no  \n",
            "5                                    None      %             no  \n",
            "6                                    None      %             no  \n",
            "7                                    None      s             no  \n",
            "8             Weekend (0) or a Weekday(1)   None             no  \n",
            "9           Sunday, Monday, ..., Saturday   None             no  \n",
            "10  Light Load, Medium Load, Maximum Load   None             no  \n"
          ]
        }
      ],
      "source": [
        "!pip install ucimlrepo\n",
        "\n",
        "from ucimlrepo import fetch_ucirepo\n",
        "\n",
        "# fetch dataset\n",
        "steel_industry_energy_consumption = fetch_ucirepo(id=851)\n",
        "\n",
        "# data (as pandas dataframes)\n",
        "X = steel_industry_energy_consumption.data.features\n",
        "y = steel_industry_energy_consumption.data.targets\n",
        "\n",
        "# metadata\n",
        "print(steel_industry_energy_consumption.metadata)\n",
        "\n",
        "# variable information\n",
        "print(steel_industry_energy_consumption.variables)"
      ]
    },
    {
      "cell_type": "markdown",
      "source": [
        "Переопределение фич и таргета"
      ],
      "metadata": {
        "id": "-_h_rhvpPuGT"
      }
    },
    {
      "cell_type": "code",
      "execution_count": null,
      "metadata": {
        "colab": {
          "base_uri": "https://localhost:8080/"
        },
        "id": "YMkh3TnkbgPd",
        "outputId": "26662f77-f646-41d5-8c88-a127980119fa"
      },
      "outputs": [
        {
          "output_type": "stream",
          "name": "stderr",
          "text": [
            "<ipython-input-41-b1efb0d67c61>:3: SettingWithCopyWarning: \n",
            "A value is trying to be set on a copy of a slice from a DataFrame.\n",
            "Try using .loc[row_indexer,col_indexer] = value instead\n",
            "\n",
            "See the caveats in the documentation: https://pandas.pydata.org/pandas-docs/stable/user_guide/indexing.html#returning-a-view-versus-a-copy\n",
            "  X.loc[:, \"Load_Type\"] = steel_industry_energy_consumption.data.targets\n"
          ]
        }
      ],
      "source": [
        "X = steel_industry_energy_consumption.data.features\n",
        "# добавляем Load_Type к фичам\n",
        "X.loc[:, \"Load_Type\"] = steel_industry_energy_consumption.data.targets\n",
        "# убираем Usage_kWh из фич\n",
        "X = X.drop(columns=[\"Usage_kWh\", \"Load_Type\", \"WeekStatus\", \"Day_of_week\"])\n",
        "# делаем Usage_kWh новым таргетом\n",
        "y = steel_industry_energy_consumption.data.features[\"Usage_kWh\"]\n",
        "\n",
        "# По хорошему данные следовало бы отнормировать, но и так нормально\n",
        "\n",
        "\n",
        "# Разбиваем данные на тренировочную и тестовую выборки\n",
        "# X - признаки, y - цель\n",
        "X_train, X_test, y_train, y_test = train_test_split(np.asarray(X).astype('float32'), np.asarray(y).astype('float32'), train_size=0.8, random_state=42, shuffle=True)"
      ]
    },
    {
      "cell_type": "markdown",
      "source": [
        "Импортируем необходимые модули"
      ],
      "metadata": {
        "id": "E1X4TH44YK4U"
      }
    },
    {
      "cell_type": "code",
      "source": [
        "import numpy as np\n",
        "import tensorflow as tf\n",
        "from tensorflow.keras.models import Sequential\n",
        "from tensorflow.keras.layers import SimpleRNN, GRU, LSTM, Dense\n",
        "from sklearn.model_selection import train_test_split\n",
        "from sklearn.metrics import mean_squared_error, r2_score"
      ],
      "metadata": {
        "id": "82ngmUOdYKPl"
      },
      "execution_count": null,
      "outputs": []
    },
    {
      "cell_type": "markdown",
      "metadata": {
        "id": "ldS2XaB7JJ0E"
      },
      "source": [
        "RNN"
      ]
    },
    {
      "cell_type": "code",
      "execution_count": null,
      "metadata": {
        "colab": {
          "base_uri": "https://localhost:8080/"
        },
        "id": "1le2_IXNJMHD",
        "outputId": "72e6b6d9-ec81-46f3-9c9a-54e86ed61a81"
      },
      "outputs": [
        {
          "output_type": "stream",
          "name": "stdout",
          "text": [
            "Epoch 1/10\n",
            "876/876 [==============================] - 11s 9ms/step - loss: 1070.6677\n",
            "Epoch 2/10\n",
            "876/876 [==============================] - 8s 9ms/step - loss: 464.9780\n",
            "Epoch 3/10\n",
            "876/876 [==============================] - 10s 11ms/step - loss: 240.0345\n",
            "Epoch 4/10\n",
            "876/876 [==============================] - 8s 9ms/step - loss: 130.7370\n",
            "Epoch 5/10\n",
            "876/876 [==============================] - 5s 6ms/step - loss: 70.5388\n",
            "Epoch 6/10\n",
            "876/876 [==============================] - 4s 5ms/step - loss: 38.7971\n",
            "Epoch 7/10\n",
            "876/876 [==============================] - 4s 4ms/step - loss: 23.6470\n",
            "Epoch 8/10\n",
            "876/876 [==============================] - 6s 6ms/step - loss: 14.4425\n",
            "Epoch 9/10\n",
            "876/876 [==============================] - 6s 6ms/step - loss: 10.1528\n",
            "Epoch 10/10\n",
            "876/876 [==============================] - 4s 4ms/step - loss: 7.3367\n",
            "219/219 [==============================] - 1s 3ms/step\n",
            "Mean Squared Error: 5.2891517\n",
            "Root Mean Squared Error: 2.2998157\n",
            "R-squared: 0.9953470152219078\n"
          ]
        }
      ],
      "source": [
        "# Создаем модель многослойной рекуррентной нейронной сети\n",
        "model = Sequential([\n",
        "    SimpleRNN(units=64, return_sequences=True, input_shape=(6,1)),\n",
        "    SimpleRNN(units=32, input_shape=(1,1)),\n",
        "    Dense(units=1)\n",
        "])\n",
        "\n",
        "# Компилируем модель\n",
        "model.compile(optimizer='adam', loss='mean_squared_error')\n",
        "\n",
        "# Обучаем модель\n",
        "model.fit(X_train, y_train, epochs=10, batch_size=32)\n",
        "\n",
        "# Делаем предсказание\n",
        "y_predicted = model.predict(X_test)\n",
        "\n",
        "# Оцениваем модель\\\n",
        "mse = mean_squared_error(y_test, y_predicted)\n",
        "rmse = np.sqrt(mse)\n",
        "r2 = r2_score(y_test, y_predicted)\n",
        "\n",
        "\n",
        "# Выводим результаты\n",
        "print(\"Mean Squared Error:\", mse)\n",
        "print(\"Root Mean Squared Error:\", rmse)\n",
        "print(\"R-squared:\", r2)"
      ]
    },
    {
      "cell_type": "markdown",
      "source": [
        "GRU"
      ],
      "metadata": {
        "id": "gHVGS2wrXebZ"
      }
    },
    {
      "cell_type": "code",
      "source": [
        "# Создаем модель многослойной рекуррентной нейронной сети\n",
        "model = Sequential([\n",
        "    GRU(units=64, return_sequences=True, input_shape=(6,1)),\n",
        "    GRU(units=32, input_shape=(1,1)),\n",
        "    Dense(units=1)\n",
        "])\n",
        "\n",
        "\n",
        "\n",
        "# Компилируем модель\n",
        "model.compile(optimizer='adam', loss='mean_squared_error')\n",
        "\n",
        "# Обучаем модель\n",
        "model.fit(X_train, y_train, epochs=10, batch_size=32)\n",
        "\n",
        "# Делаем предсказание\n",
        "y_predicted = model.predict(X_test)\n",
        "\n",
        "# Оцениваем модель\\\n",
        "mse = mean_squared_error(y_test, y_predicted)\n",
        "rmse = np.sqrt(mse)\n",
        "r2 = r2_score(y_test, y_predicted)\n",
        "\n",
        "\n",
        "# Выводим результаты\n",
        "print(\"Mean Squared Error:\", mse)\n",
        "print(\"Root Mean Squared Error:\", rmse)\n",
        "print(\"R-squared:\", r2)"
      ],
      "metadata": {
        "colab": {
          "base_uri": "https://localhost:8080/"
        },
        "id": "CL71wAmGXfmQ",
        "outputId": "e15998c6-4697-49cf-b3c2-168cc0511a27"
      },
      "execution_count": null,
      "outputs": [
        {
          "output_type": "stream",
          "name": "stdout",
          "text": [
            "Epoch 1/10\n",
            "876/876 [==============================] - 10s 7ms/step - loss: 1067.0679\n",
            "Epoch 2/10\n",
            "876/876 [==============================] - 8s 9ms/step - loss: 452.3019\n",
            "Epoch 3/10\n",
            "876/876 [==============================] - 6s 7ms/step - loss: 230.2566\n",
            "Epoch 4/10\n",
            "876/876 [==============================] - 8s 9ms/step - loss: 122.5959\n",
            "Epoch 5/10\n",
            "876/876 [==============================] - 6s 7ms/step - loss: 65.7096\n",
            "Epoch 6/10\n",
            "876/876 [==============================] - 8s 10ms/step - loss: 35.9224\n",
            "Epoch 7/10\n",
            "876/876 [==============================] - 7s 8ms/step - loss: 20.3880\n",
            "Epoch 8/10\n",
            "876/876 [==============================] - 8s 9ms/step - loss: 14.8271\n",
            "Epoch 9/10\n",
            "876/876 [==============================] - 6s 7ms/step - loss: 9.7724\n",
            "Epoch 10/10\n",
            "876/876 [==============================] - 8s 9ms/step - loss: 9.5915\n",
            "219/219 [==============================] - 2s 4ms/step\n",
            "Mean Squared Error: 7.009998\n",
            "Root Mean Squared Error: 2.64764\n",
            "R-squared: 0.9938331481784132\n"
          ]
        }
      ]
    },
    {
      "cell_type": "markdown",
      "source": [
        "LSTM"
      ],
      "metadata": {
        "id": "6dzedi-TXgkR"
      }
    },
    {
      "cell_type": "code",
      "source": [
        "# Создаем модель многослойной рекуррентной нейронной сети\n",
        "model = Sequential([\n",
        "    LSTM(units=64, return_sequences=True, input_shape=(6,1)),\n",
        "    LSTM(units=32, input_shape=(1,1)),\n",
        "    Dense(units=1)\n",
        "])\n",
        "\n",
        "\n",
        "\n",
        "# Компилируем модель\n",
        "model.compile(optimizer='adam', loss='mean_squared_error')\n",
        "\n",
        "# Обучаем модель\n",
        "model.fit(X_train, y_train, epochs=10, batch_size=32)\n",
        "\n",
        "# Делаем предсказание\n",
        "y_predicted = model.predict(X_test)\n",
        "\n",
        "# Оцениваем модель\\\n",
        "mse = mean_squared_error(y_test, y_predicted)\n",
        "rmse = np.sqrt(mse)\n",
        "r2 = r2_score(y_test, y_predicted)\n",
        "\n",
        "\n",
        "# Выводим результаты\n",
        "print(\"Mean Squared Error:\", mse)\n",
        "print(\"Root Mean Squared Error:\", rmse)\n",
        "print(\"R-squared:\", r2)"
      ],
      "metadata": {
        "colab": {
          "base_uri": "https://localhost:8080/"
        },
        "id": "PyPh4B8uXh8-",
        "outputId": "5de88ce7-4936-4f84-8aac-28b519defb87"
      },
      "execution_count": null,
      "outputs": [
        {
          "output_type": "stream",
          "name": "stdout",
          "text": [
            "Epoch 1/10\n",
            "876/876 [==============================] - 11s 8ms/step - loss: 1033.9692\n",
            "Epoch 2/10\n",
            "876/876 [==============================] - 7s 8ms/step - loss: 420.3019\n",
            "Epoch 3/10\n",
            "876/876 [==============================] - 8s 9ms/step - loss: 211.7389\n",
            "Epoch 4/10\n",
            "876/876 [==============================] - 7s 8ms/step - loss: 113.3975\n",
            "Epoch 5/10\n",
            "876/876 [==============================] - 8s 9ms/step - loss: 61.8465\n",
            "Epoch 6/10\n",
            "876/876 [==============================] - 7s 8ms/step - loss: 36.4313\n",
            "Epoch 7/10\n",
            "876/876 [==============================] - 8s 9ms/step - loss: 20.1296\n",
            "Epoch 8/10\n",
            "876/876 [==============================] - 7s 8ms/step - loss: 14.5340\n",
            "Epoch 9/10\n",
            "876/876 [==============================] - 8s 9ms/step - loss: 9.2956\n",
            "Epoch 10/10\n",
            "876/876 [==============================] - 6s 7ms/step - loss: 9.3657\n",
            "219/219 [==============================] - 2s 3ms/step\n",
            "Mean Squared Error: 9.088879\n",
            "Root Mean Squared Error: 3.0147767\n",
            "R-squared: 0.992004311074772\n"
          ]
        }
      ]
    }
  ],
  "metadata": {
    "colab": {
      "provenance": []
    },
    "kernelspec": {
      "display_name": "Python 3",
      "name": "python3"
    },
    "language_info": {
      "name": "python"
    }
  },
  "nbformat": 4,
  "nbformat_minor": 0
}